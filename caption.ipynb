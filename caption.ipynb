{
 "cells": [
  {
   "cell_type": "code",
   "execution_count": 1,
   "id": "metadata-validation",
   "metadata": {},
   "outputs": [
    {
     "name": "stdout",
     "output_type": "stream",
     "text": [
      "Validated 88 entries from dataset\\lumi\\metadata.json.\n"
     ]
    }
   ],
   "source": [
    "from pathlib import Path\n",
    "import json\n",
    "from PIL import Image\n",
    "import os\n",
    "\n",
    "os.chdir(\"..\")\n",
    "metadata_path = Path(\"dataset/lumi/metadata.json\")\n",
    "if not metadata_path.exists():\n",
    "    raise FileNotFoundError(f\"Metadata file not found: {metadata_path}\")\n",
    "\n",
    "with metadata_path.open(\"r\", encoding=\"utf-8\") as f:\n",
    "    metadata = json.load(f)\n",
    "\n",
    "missing_files = []\n",
    "invalid_sizes = []\n",
    "\n",
    "for rel_path, info in metadata.items():\n",
    "    img_path = Path(rel_path)\n",
    "    if not img_path.exists():\n",
    "        missing_files.append(str(img_path))\n",
    "        continue\n",
    "\n",
    "    with Image.open(img_path) as img:\n",
    "        width, height = img.size\n",
    "\n",
    "    if (width % 64) or (height % 64):\n",
    "        invalid_sizes.append((str(img_path), width, height))\n",
    "\n",
    "if missing_files:\n",
    "    raise FileNotFoundError(f\"Files not found: {missing_files}\")\n",
    "\n",
    "if invalid_sizes:\n",
    "    details = \", \".join(f\"{path} ({w}x{h})\" for path, w, h in invalid_sizes)\n",
    "    raise ValueError(f\"Image dimensions not divisible by 64: {details}\")\n",
    "\n",
    "print(f\"Validated {len(metadata)} entries from {metadata_path}.\")\n"
   ]
  }
 ],
 "metadata": {
  "kernelspec": {
   "display_name": "Python 3",
   "language": "python",
   "name": "python3"
  },
  "language_info": {
   "codemirror_mode": {
    "name": "ipython",
    "version": 3
   },
   "file_extension": ".py",
   "mimetype": "text/x-python",
   "name": "python",
   "nbconvert_exporter": "python",
   "pygments_lexer": "ipython3",
   "version": "3.12.10"
  }
 },
 "nbformat": 4,
 "nbformat_minor": 5
}
